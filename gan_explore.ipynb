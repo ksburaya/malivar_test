{
 "cells": [
  {
   "cell_type": "markdown",
   "metadata": {
    "colab_type": "text",
    "id": "lzuSQ-tT0caN"
   },
   "source": [
    "# Generating GANs with Desired Features"
   ]
  },
  {
   "cell_type": "code",
   "execution_count": null,
   "metadata": {
    "colab": {
     "base_uri": "https://localhost:8080/",
     "height": 141
    },
    "colab_type": "code",
    "id": "w2dEcHb9tCf6",
    "outputId": "7b9465a9-b96e-450a-971b-8c3049fb6aa2"
   },
   "outputs": [],
   "source": [
    "# Run this for Google CoLab (use TensorFlow 1.x)\n",
    "%tensorflow_version 1.x\n",
    "from google.colab import drive\n",
    "drive.mount('/content/drive', force_remount=True)"
   ]
  },
  {
   "cell_type": "markdown",
   "metadata": {
    "colab_type": "text",
    "id": "icRPLmPKtCf_"
   },
   "source": [
    "Next, clone StyleGAN2 from GitHub."
   ]
  },
  {
   "cell_type": "code",
   "execution_count": null,
   "metadata": {
    "colab": {
     "base_uri": "https://localhost:8080/",
     "height": 86
    },
    "colab_type": "code",
    "id": "tB0TryzptCf_",
    "outputId": "5faa97ea-0a19-4aee-a51a-c747cf488ebc"
   },
   "outputs": [],
   "source": [
    "!git clone https://github.com/NVlabs/stylegan2.git"
   ]
  },
  {
   "cell_type": "markdown",
   "metadata": {
    "colab_type": "text",
    "id": "s1Sh0xmOtCgC"
   },
   "source": [
    "Verify that StyleGAN has been cloned."
   ]
  },
  {
   "cell_type": "code",
   "execution_count": null,
   "metadata": {
    "colab": {
     "base_uri": "https://localhost:8080/",
     "height": 86
    },
    "colab_type": "code",
    "id": "wewBEme5tCgD",
    "outputId": "d8d44734-3e67-4853-98d6-fa578deeb519"
   },
   "outputs": [],
   "source": [
    "!ls /content/stylegan2/"
   ]
  },
  {
   "cell_type": "markdown",
   "metadata": {
    "colab_type": "text",
    "id": "D92Md-Hw3eVA"
   },
   "source": [
    "# Run StyleGAN2 From Python Code"
   ]
  },
  {
   "cell_type": "code",
   "execution_count": null,
   "metadata": {
    "colab": {},
    "colab_type": "code",
    "id": "UgMm1sSutCgH"
   },
   "outputs": [],
   "source": [
    "import sys\n",
    "sys.path.insert(0, \"/content/stylegan2\")\n",
    "\n",
    "import dnnlib"
   ]
  },
  {
   "cell_type": "code",
   "execution_count": null,
   "metadata": {
    "colab": {},
    "colab_type": "code",
    "id": "yZcFAjaz3mw1"
   },
   "outputs": [],
   "source": [
    "# Copyright (c) 2019, NVIDIA Corporation. All rights reserved.\n",
    "#\n",
    "# This work is made available under the Nvidia Source Code License-NC.\n",
    "# To view a copy of this license, visit\n",
    "# https://nvlabs.github.io/stylegan2/license.html\n",
    "\n",
    "import argparse\n",
    "import numpy as np\n",
    "import PIL.Image\n",
    "import dnnlib\n",
    "import dnnlib.tflib as tflib\n",
    "import re\n",
    "import sys\n",
    "\n",
    "import pretrained_networks\n",
    "\n",
    "#----------------------------------------------------------------------------\n",
    "\n",
    "def expand_seed(seeds, vector_size):\n",
    "  result = []\n",
    "\n",
    "  for seed in seeds:\n",
    "    rnd = np.random.RandomState(seed)\n",
    "    result.append( rnd.randn(1, vector_size) ) \n",
    "  return result\n",
    "\n",
    "def generate_images(Gs, seeds, truncation_psi, prefix):\n",
    "    noise_vars = [var for name, var in Gs.components.synthesis.vars.items() if name.startswith('noise')]\n",
    "\n",
    "    Gs_kwargs = dnnlib.EasyDict()\n",
    "    Gs_kwargs.output_transform = dict(func=tflib.convert_images_to_uint8, nchw_to_nhwc=True)\n",
    "    Gs_kwargs.randomize_noise = False\n",
    "    if truncation_psi is not None:\n",
    "        Gs_kwargs.truncation_psi = truncation_psi\n",
    "\n",
    "    for seed_idx, seed in enumerate(seeds):\n",
    "        print('Generating image for seed %d/%d ...' % (seed_idx, len(seeds)))\n",
    "        rnd = np.random.RandomState(0)\n",
    "        tflib.set_vars({var: rnd.randn(*var.shape.as_list()) for var in noise_vars}) # [height, width]\n",
    "        images = Gs.run(seed, None, **Gs_kwargs) # [minibatch, height, width, channel]\n",
    "        path = f\"/content/{prefix}-{seed_idx+1}.png\"\n",
    "        PIL.Image.fromarray(images[0], 'RGB').save(path)\n"
   ]
  },
  {
   "cell_type": "code",
   "execution_count": null,
   "metadata": {
    "colab": {
     "base_uri": "https://localhost:8080/",
     "height": 86
    },
    "colab_type": "code",
    "id": "UnxjKdsJKXE5",
    "outputId": "a11a5422-e60d-4319-abac-aa02dffe6ec4"
   },
   "outputs": [],
   "source": [
    "sc = dnnlib.SubmitConfig()\n",
    "sc.num_gpus = 1\n",
    "sc.submit_target = dnnlib.SubmitTarget.LOCAL\n",
    "sc.local.do_not_copy_source_files = True\n",
    "sc.run_dir_root = \"/content/drive/My Drive/projects/stylegan2\"\n",
    "sc.run_desc = 'generate-images'\n",
    "network_pkl = 'gdrive:networks/stylegan2-ffhq-config-f.pkl'\n",
    "\n",
    "print('Loading networks from \"%s\"...' % network_pkl)\n",
    "_G, _D, Gs = pretrained_networks.load_networks(network_pkl)\n",
    "vector_size = Gs.input_shape[1:][0]"
   ]
  },
  {
   "cell_type": "markdown",
   "metadata": {
    "colab_type": "text",
    "id": "3Mma51xe6b7k"
   },
   "source": [
    "# Explore Many GANs\n",
    "\n",
    "Let's generate many different GAN's randomly.  Then find ones with the traits that we are looking for."
   ]
  },
  {
   "cell_type": "code",
   "execution_count": null,
   "metadata": {
    "colab": {},
    "colab_type": "code",
    "id": "BRdAnScjJ6kO"
   },
   "outputs": [],
   "source": [
    "import cv2 \n",
    "from google.colab.patches import cv2_imshow\n",
    "\n",
    "# 8227\n",
    "for i in range(100):\n",
    "  z = 9200+i\n",
    "  print(z)\n",
    "  seeds = expand_seed([z], vector_size)\n",
    "  generate_images(Gs, seeds, 0.5, \"image\")\n",
    "  img = cv2.imread('/content/image-1.png')   \n",
    "  cv2_imshow(img) "
   ]
  },
  {
   "cell_type": "markdown",
   "metadata": {
    "colab_type": "text",
    "id": "tFSNStt1Zm4V"
   },
   "source": [
    "# What is an Image??"
   ]
  },
  {
   "cell_type": "code",
   "execution_count": null,
   "metadata": {
    "colab": {
     "base_uri": "https://localhost:8080/",
     "height": 84
    },
    "colab_type": "code",
    "id": "YpCPDDnr_Oxj",
    "outputId": "31542b67-00d8-4035-fb8d-708d8b453edf"
   },
   "outputs": [],
   "source": [
    "sc = dnnlib.SubmitConfig()\n",
    "sc.num_gpus = 1\n",
    "sc.submit_target = dnnlib.SubmitTarget.LOCAL\n",
    "sc.local.do_not_copy_source_files = True\n",
    "sc.run_dir_root = \"/content/drive/My Drive/projects/stylegan2\"\n",
    "sc.run_desc = 'generate-images'\n",
    "network_pkl = 'gdrive:networks/stylegan2-ffhq-config-f.pkl'\n",
    "\n",
    "print('Loading networks from \"%s\"...' % network_pkl)\n",
    "_G, _D, Gs = pretrained_networks.load_networks(network_pkl)\n",
    "vector_size = Gs.input_shape[1:][0]"
   ]
  },
  {
   "cell_type": "code",
   "execution_count": null,
   "metadata": {
    "colab": {},
    "colab_type": "code",
    "id": "tM86fWGcZlwJ"
   },
   "outputs": [],
   "source": [
    "GLASSES = [2,3,17,19,26,40,42,50,44,65,68,70,85,90,96,112,\n",
    "  130,139,140,146,147,152,155,164,176,183,194,198,209,214,215,241,244,245,254,260,\n",
    "  267,296,300,312,313,322,324,331,333,346,361,366,386,401,412,422,425,443,448,472,\n",
    "  487,494,501,516,544,545,551,552,565,568,591,594,595,597,607,610,639,640,669,670,\n",
    "  675,682,703,710,719,730,757,764,765,767,777,780,792,798,799,802,808,812,819,823,\n",
    "  837,857,866,870,881,887,893,894,895,899,915,916,934,936,941,973,979,988,991,993]\n",
    "\n",
    "NO_GLASSES = [x for x in range(1000) if x not in GLASSES]"
   ]
  },
  {
   "cell_type": "code",
   "execution_count": null,
   "metadata": {
    "colab": {},
    "colab_type": "code",
    "id": "g0aNexJ7dg6q"
   },
   "outputs": [],
   "source": [
    "import random\n",
    "import pandas as pd\n",
    "\n",
    "GEN_SET = GLASSES\n",
    "\n",
    "def generate_set(GEN_SET, count):\n",
    "  seeds3 = []\n",
    "\n",
    "  for i in range(count):\n",
    "    i1 = random.randint(0,len(GEN_SET)-1)\n",
    "    i2 = random.randint(0,len(GEN_SET)-1)\n",
    "    seeds1 = expand_seed([GEN_SET[i1]],vector_size)\n",
    "    seeds2 = expand_seed([GEN_SET[i2]],vector_size)\n",
    "    seeds = [seeds1[0][0], seeds2[0][0]]\n",
    "\n",
    "    diff = seeds[1] - seeds[0]\n",
    "    delta = (np.random.rand(512) * 0.6) + .2\n",
    "    step = diff * delta\n",
    "    current = [seeds[0].copy()]\n",
    "    current += step\n",
    "    current = np.round(current,5)\n",
    "    seeds3.append(current)\n",
    "\n",
    "  seeds4 = [x[0] for x in seeds3]\n",
    "  seeds4 = np.array(seeds4)\n",
    "  return pd.DataFrame(seeds4)\n",
    "\n",
    "\n",
    "\n",
    "#generate_images(Gs, seeds3,0.5,'glasses')\n",
    "\n",
    "df1 = generate_set(GLASSES, int(5000 * .64))\n",
    "df1['glasses'] = 1\n",
    "df2 = generate_set(NO_GLASSES, int(5000 * .36))\n",
    "df2['glasses'] = 0"
   ]
  },
  {
   "cell_type": "code",
   "execution_count": null,
   "metadata": {
    "colab": {},
    "colab_type": "code",
    "id": "7OJB8xaDP3Cz"
   },
   "outputs": [],
   "source": [
    "df = pd.concat([df1,df2],ignore_index=True)"
   ]
  },
  {
   "cell_type": "code",
   "execution_count": null,
   "metadata": {
    "colab": {},
    "colab_type": "code",
    "id": "gua5CgfSvtoJ"
   },
   "outputs": [],
   "source": [
    "v_cols2 = [f'v{i+1}' for i in range(512)]\n",
    "cols2 = v_cols2.copy()\n",
    "cols2.append('glasses')\n",
    "df.columns = cols2\n",
    "df = df.reindex(np.random.permutation(df.index))\n",
    "df.insert(0, 'id', range(1,len(df)+1))"
   ]
  },
  {
   "cell_type": "code",
   "execution_count": null,
   "metadata": {
    "colab": {},
    "colab_type": "code",
    "id": "Ayo_-tiuVXpW"
   },
   "outputs": [],
   "source": [
    "l = len(df)\n",
    "sz = int(l*.9)\n",
    "df_train = df[0:sz].copy()\n",
    "df_test = df[sz:].copy()\n",
    "df_test.drop('glasses',axis=1,inplace=True)\n",
    "df_solution = df[sz:].copy()\n",
    "df_sample = df_test.copy()\n",
    "df_sample['glasses'] = 0.64"
   ]
  },
  {
   "cell_type": "code",
   "execution_count": null,
   "metadata": {
    "colab": {},
    "colab_type": "code",
    "id": "XIzP-YoXL7OQ"
   },
   "outputs": [],
   "source": [
    "df_train.to_csv('/content/train.csv',index=False)\n",
    "df_test.to_csv('/content/test.csv',index=False)\n",
    "df_solution.to_csv('/content/solution.csv',index=False)\n",
    "df_sample.to_csv('/content/sample.csv',index=False)\n"
   ]
  },
  {
   "cell_type": "markdown",
   "metadata": {
    "colab_type": "text",
    "id": "zLUU78QHscjj"
   },
   "source": [
    "# Build Images"
   ]
  },
  {
   "cell_type": "code",
   "execution_count": null,
   "metadata": {
    "colab": {
     "base_uri": "https://localhost:8080/",
     "height": 34
    },
    "colab_type": "code",
    "id": "jNx9GWelxKd4",
    "outputId": "5bd3e6a9-6ad6-4a32-9b14-e3d82e6754eb"
   },
   "outputs": [],
   "source": [
    "df.shape"
   ]
  },
  {
   "cell_type": "code",
   "execution_count": null,
   "metadata": {
    "colab": {
     "base_uri": "https://localhost:8080/",
     "height": 1000
    },
    "colab_type": "code",
    "id": "TgPfMRgHsf-B",
    "outputId": "bc7acc58-a248-4f6f-8412-9e03c13d6e71"
   },
   "outputs": [],
   "source": [
    "seeds = df[v_cols2].values\n",
    "seeds = [x.reshape([1,512]) for x in seeds]\n",
    "generate_images(Gs, seeds,0.5,\"face\")"
   ]
  }
 ],
 "metadata": {
  "accelerator": "GPU",
  "anaconda-cloud": {},
  "colab": {
   "collapsed_sections": [],
   "name": "gan-explore.ipynb",
   "provenance": []
  },
  "kernelspec": {
   "display_name": "Python 3",
   "language": "python",
   "name": "python3"
  },
  "language_info": {
   "codemirror_mode": {
    "name": "ipython",
    "version": 3
   },
   "file_extension": ".py",
   "mimetype": "text/x-python",
   "name": "python",
   "nbconvert_exporter": "python",
   "pygments_lexer": "ipython3",
   "version": "3.8.5"
  }
 },
 "nbformat": 4,
 "nbformat_minor": 1
}
